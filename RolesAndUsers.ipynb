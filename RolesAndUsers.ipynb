root_role_name = str(input("Enter root role name : "))
# print(root_role_name)
all_sub_role = []
all_user_details = []
def hyrachyFunc():
    global reporting_role,sub_role,del_rol,user_name,user_role
    if root_role_name == "CEO" or "ceo":
        print("Opretions : \n1. Add Sub Role.\n2. Display Roles.\n3. Delete Role.\n4. Add Users.\n5. Display Users.")
    operation_num = input("Operation to be performed : ")
    if operation_num == "1":
        sub_role = input("Enter sub role name : ")
        all_sub_role.append(sub_role)
        reporting_role = input("Enter reporting to role name : ")
        print("Successfully added✅")
    if operation_num == "2":
        print(root_role_name ," ".join(all_sub_role))
    if operation_num == "3":
        del_rol = input("Enter the role to be deleted❗ : ")
        all_sub_role.remove(del_rol)
        print("Successfully deleted✅")
    if operation_num == "4":
        user_name = input("Enter User Name : ")
        user_role = input("Enter Role : ")
        all_user_details.append(user_name+ " - " +user_role)
        print("Successfully added✅")
    if operation_num == "5":
        print("\n".join(all_user_details))    

for x in range(20):
    hyrachyFunc()
# print(all_sub_role)




OUTPUT:

Enter root role name : CEO
Opretions : 
1. Add Sub Role.
2. Display Roles.
3. Delete Role.
4. Add Users.
5. Display Users.
Operation to be performed : 1
Enter sub role name : COO
Enter reporting to role name : CEO
Successfully added✅
Opretions : 
1. Add Sub Role.
2. Display Roles.
3. Delete Role.
4. Add Users.
5. Display Users.
Operation to be performed : 1
Enter sub role name : CTO
Enter reporting to role name : CEO
Successfully added✅
Opretions : 
1. Add Sub Role.
2. Display Roles.
3. Delete Role.
4. Add Users.
5. Display Users.
Operation to be performed : 2
CEO COO CTO
Opretions : 
1. Add Sub Role.
2. Display Roles.
3. Delete Role.
4. Add Users.
5. Display Users.
Operation to be performed : 1
Enter sub role name : Sr Product Engineering Manager
Enter reporting to role name : COO
Successfully added✅
Opretions : 
1. Add Sub Role.
2. Display Roles.
3. Delete Role.
4. Add Users.
5. Display Users.
Operation to be performed : 1
Enter sub role name : Sr Product Marketing Manager
Enter reporting to role name : COO
Successfully added✅
Opretions : 
1. Add Sub Role.
2. Display Roles.
3. Delete Role.
4. Add Users.
5. Display Users.
Operation to be performed : 1
Enter sub role name : Director of Technology
Enter reporting to role name : CTO
Successfully added✅
Opretions : 
1. Add Sub Role.
2. Display Roles.
3. Delete Role.
4. Add Users.
5. Display Users.
Operation to be performed : 1
Enter sub role name : Manager-Engineering 
Enter reporting to role name : Sr product Engineering Manager
Successfully added✅
Opretions : 
1. Add Sub Role.
2. Display Roles.
3. Delete Role.
4. Add Users.
5. Display Users.
Operation to be performed : 1
Enter sub role name : Manager-Marketing
Enter reporting to role name : Sr Product Marketing Manager
Successfully added✅
Opretions : 
1. Add Sub Role.
2. Display Roles.
3. Delete Role.
4. Add Users.
5. Display Users.
Operation to be performed : 1
Enter sub role name : Technical Architect
Enter reporting to role name : Director of Technology
Successfully added✅
Opretions : 
1. Add Sub Role.
2. Display Roles.
3. Delete Role.
4. Add Users.
5. Display Users.
Operation to be performed : 2
CEO COO CTO Sr Product Engineering Manager Sr Product Marketing Manager Director of Technology Manager-Engineering  Manager-Marketing Technical Architect
Opretions : 
1. Add Sub Role.
2. Display Roles.
3. Delete Role.
4. Add Users.
5. Display Users.
Operation to be performed : 2
CEO COO CTO Sr Product Engineering Manager Sr Product Marketing Manager Director of Technology Manager-Engineering  Manager-Marketing Technical Architect
Opretions : 
1. Add Sub Role.
2. Display Roles.
3. Delete Role.
4. Add Users.
5. Display Users.
Operation to be performed : 1
Enter sub role name : DevOps
Enter reporting to role name : Manager-Engineering
Successfully added✅
Opretions : 
1. Add Sub Role.
2. Display Roles.
3. Delete Role.
4. Add Users.
5. Display Users.
Operation to be performed : 1
Enter sub role name : Developer
Enter reporting to role name : Manager-Engineering
Successfully added✅
Opretions : 
1. Add Sub Role.
2. Display Roles.
3. Delete Role.
4. Add Users.
5. Display Users.
Operation to be performed : 1
Enter sub role name : Tester
Enter reporting to role name : Manager-Engineering
Successfully added✅
Opretions : 
1. Add Sub Role.
2. Display Roles.
3. Delete Role.
4. Add Users.
5. Display Users.
Operation to be performed : 1
Enter sub role name : Marketing analyst
Enter reporting to role name : Manager-Marketing
Successfully added✅
Opretions : 
1. Add Sub Role.
2. Display Roles.
3. Delete Role.
4. Add Users.
5. Display Users.
Operation to be performed : 1
Enter sub role name : Marketing Executive
Enter reporting to role name : Manager-Marketing
Successfully added✅
Opretions : 
1. Add Sub Role.
2. Display Roles.
3. Delete Role.
4. Add Users.
5. Display Users.
Operation to be performed : 2
CEO COO CTO Sr Product Engineering Manager Sr Product Marketing Manager Director of Technology Manager-Engineering  Manager-Marketing Technical Architect DevOps Developer Tester Marketing analyst Marketing Executive
